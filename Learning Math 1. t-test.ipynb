{
 "cells": [
  {
   "cell_type": "markdown",
   "metadata": {},
   "source": [
    "### Learning Maths - A New Survey Mathematics for the Millions\n",
    "----\n",
    "This is a learning workbook for the mathematics of the 21st Century with our new computational symbiosis.\n",
    "First task is to put the republicans lie statistical test into this python note book."
   ]
  },
  {
   "cell_type": "code",
   "execution_count": 9,
   "metadata": {
    "collapsed": false
   },
   "outputs": [],
   "source": [
    "%matplotlib inline\n",
    "import pandas as pd\n",
    "import numpy as np\n",
    "import matplotlib.pyplot as plt"
   ]
  },
  {
   "cell_type": "code",
   "execution_count": 10,
   "metadata": {
    "collapsed": false
   },
   "outputs": [
    {
     "data": {
      "text/html": [
       "<div>\n",
       "<table border=\"1\" class=\"dataframe\">\n",
       "  <thead>\n",
       "    <tr style=\"text-align: right;\">\n",
       "      <th></th>\n",
       "      <th>Politician</th>\n",
       "      <th>Party</th>\n",
       "      <th>True</th>\n",
       "      <th>Mostly True</th>\n",
       "      <th>Half True</th>\n",
       "      <th>Mostly False</th>\n",
       "      <th>False</th>\n",
       "      <th>Pants on Fire</th>\n",
       "      <th>Mostly False and Worse</th>\n",
       "      <th>True and Mostly True</th>\n",
       "    </tr>\n",
       "  </thead>\n",
       "  <tbody>\n",
       "    <tr>\n",
       "      <th>0</th>\n",
       "      <td>Donald J. Trump</td>\n",
       "      <td>R</td>\n",
       "      <td>4</td>\n",
       "      <td>11</td>\n",
       "      <td>15</td>\n",
       "      <td>18</td>\n",
       "      <td>33</td>\n",
       "      <td>18</td>\n",
       "      <td>69</td>\n",
       "      <td>15</td>\n",
       "    </tr>\n",
       "    <tr>\n",
       "      <th>1</th>\n",
       "      <td>Dr. Ben S. Carson</td>\n",
       "      <td>R</td>\n",
       "      <td>0</td>\n",
       "      <td>7</td>\n",
       "      <td>11</td>\n",
       "      <td>25</td>\n",
       "      <td>43</td>\n",
       "      <td>14</td>\n",
       "      <td>82</td>\n",
       "      <td>7</td>\n",
       "    </tr>\n",
       "    <tr>\n",
       "      <th>2</th>\n",
       "      <td>Ted Cruz</td>\n",
       "      <td>R</td>\n",
       "      <td>6</td>\n",
       "      <td>16</td>\n",
       "      <td>13</td>\n",
       "      <td>31</td>\n",
       "      <td>28</td>\n",
       "      <td>7</td>\n",
       "      <td>66</td>\n",
       "      <td>22</td>\n",
       "    </tr>\n",
       "    <tr>\n",
       "      <th>3</th>\n",
       "      <td>Dick Cheney</td>\n",
       "      <td>R</td>\n",
       "      <td>18</td>\n",
       "      <td>12</td>\n",
       "      <td>12</td>\n",
       "      <td>29</td>\n",
       "      <td>24</td>\n",
       "      <td>6</td>\n",
       "      <td>59</td>\n",
       "      <td>30</td>\n",
       "    </tr>\n",
       "    <tr>\n",
       "      <th>4</th>\n",
       "      <td>Rick Santorum</td>\n",
       "      <td>R</td>\n",
       "      <td>10</td>\n",
       "      <td>12</td>\n",
       "      <td>22</td>\n",
       "      <td>20</td>\n",
       "      <td>27</td>\n",
       "      <td>8</td>\n",
       "      <td>55</td>\n",
       "      <td>22</td>\n",
       "    </tr>\n",
       "    <tr>\n",
       "      <th>5</th>\n",
       "      <td>Carly Fiorina</td>\n",
       "      <td>R</td>\n",
       "      <td>14</td>\n",
       "      <td>14</td>\n",
       "      <td>18</td>\n",
       "      <td>23</td>\n",
       "      <td>23</td>\n",
       "      <td>9</td>\n",
       "      <td>55</td>\n",
       "      <td>28</td>\n",
       "    </tr>\n",
       "    <tr>\n",
       "      <th>6</th>\n",
       "      <td>Marco Rubio</td>\n",
       "      <td>R</td>\n",
       "      <td>13</td>\n",
       "      <td>24</td>\n",
       "      <td>22</td>\n",
       "      <td>22</td>\n",
       "      <td>16</td>\n",
       "      <td>3</td>\n",
       "      <td>41</td>\n",
       "      <td>37</td>\n",
       "    </tr>\n",
       "    <tr>\n",
       "      <th>7</th>\n",
       "      <td>Lindsay Graham</td>\n",
       "      <td>R</td>\n",
       "      <td>17</td>\n",
       "      <td>17</td>\n",
       "      <td>33</td>\n",
       "      <td>17</td>\n",
       "      <td>17</td>\n",
       "      <td>0</td>\n",
       "      <td>34</td>\n",
       "      <td>34</td>\n",
       "    </tr>\n",
       "    <tr>\n",
       "      <th>8</th>\n",
       "      <td>Chris Christie</td>\n",
       "      <td>R</td>\n",
       "      <td>21</td>\n",
       "      <td>19</td>\n",
       "      <td>26</td>\n",
       "      <td>10</td>\n",
       "      <td>17</td>\n",
       "      <td>8</td>\n",
       "      <td>35</td>\n",
       "      <td>40</td>\n",
       "    </tr>\n",
       "    <tr>\n",
       "      <th>9</th>\n",
       "      <td>Rand Paul</td>\n",
       "      <td>R</td>\n",
       "      <td>23</td>\n",
       "      <td>23</td>\n",
       "      <td>19</td>\n",
       "      <td>13</td>\n",
       "      <td>15</td>\n",
       "      <td>6</td>\n",
       "      <td>34</td>\n",
       "      <td>46</td>\n",
       "    </tr>\n",
       "    <tr>\n",
       "      <th>10</th>\n",
       "      <td>Joe Biden</td>\n",
       "      <td>D</td>\n",
       "      <td>17</td>\n",
       "      <td>21</td>\n",
       "      <td>28</td>\n",
       "      <td>15</td>\n",
       "      <td>13</td>\n",
       "      <td>5</td>\n",
       "      <td>33</td>\n",
       "      <td>38</td>\n",
       "    </tr>\n",
       "    <tr>\n",
       "      <th>11</th>\n",
       "      <td>Jeb Bush</td>\n",
       "      <td>R</td>\n",
       "      <td>18</td>\n",
       "      <td>30</td>\n",
       "      <td>22</td>\n",
       "      <td>22</td>\n",
       "      <td>6</td>\n",
       "      <td>3</td>\n",
       "      <td>31</td>\n",
       "      <td>48</td>\n",
       "    </tr>\n",
       "    <tr>\n",
       "      <th>12</th>\n",
       "      <td>Bernie Sanders</td>\n",
       "      <td>D</td>\n",
       "      <td>13</td>\n",
       "      <td>38</td>\n",
       "      <td>21</td>\n",
       "      <td>17</td>\n",
       "      <td>11</td>\n",
       "      <td>0</td>\n",
       "      <td>28</td>\n",
       "      <td>51</td>\n",
       "    </tr>\n",
       "    <tr>\n",
       "      <th>13</th>\n",
       "      <td>Hillary Clinton</td>\n",
       "      <td>D</td>\n",
       "      <td>25</td>\n",
       "      <td>26</td>\n",
       "      <td>24</td>\n",
       "      <td>14</td>\n",
       "      <td>10</td>\n",
       "      <td>2</td>\n",
       "      <td>26</td>\n",
       "      <td>51</td>\n",
       "    </tr>\n",
       "    <tr>\n",
       "      <th>14</th>\n",
       "      <td>Barack Obama</td>\n",
       "      <td>D</td>\n",
       "      <td>21</td>\n",
       "      <td>27</td>\n",
       "      <td>27</td>\n",
       "      <td>12</td>\n",
       "      <td>12</td>\n",
       "      <td>2</td>\n",
       "      <td>26</td>\n",
       "      <td>48</td>\n",
       "    </tr>\n",
       "    <tr>\n",
       "      <th>15</th>\n",
       "      <td>Martin O'Malley</td>\n",
       "      <td>D</td>\n",
       "      <td>0</td>\n",
       "      <td>22</td>\n",
       "      <td>56</td>\n",
       "      <td>17</td>\n",
       "      <td>6</td>\n",
       "      <td>0</td>\n",
       "      <td>23</td>\n",
       "      <td>22</td>\n",
       "    </tr>\n",
       "    <tr>\n",
       "      <th>16</th>\n",
       "      <td>Bill Clinton</td>\n",
       "      <td>D</td>\n",
       "      <td>22</td>\n",
       "      <td>27</td>\n",
       "      <td>29</td>\n",
       "      <td>10</td>\n",
       "      <td>5</td>\n",
       "      <td>7</td>\n",
       "      <td>22</td>\n",
       "      <td>49</td>\n",
       "    </tr>\n",
       "  </tbody>\n",
       "</table>\n",
       "</div>"
      ],
      "text/plain": [
       "           Politician Party  True  Mostly True  Half True  Mostly False  \\\n",
       "0     Donald J. Trump     R     4           11         15            18   \n",
       "1   Dr. Ben S. Carson     R     0            7         11            25   \n",
       "2            Ted Cruz     R     6           16         13            31   \n",
       "3         Dick Cheney     R    18           12         12            29   \n",
       "4       Rick Santorum     R    10           12         22            20   \n",
       "5       Carly Fiorina     R    14           14         18            23   \n",
       "6         Marco Rubio     R    13           24         22            22   \n",
       "7      Lindsay Graham     R    17           17         33            17   \n",
       "8      Chris Christie     R    21           19         26            10   \n",
       "9           Rand Paul     R    23           23         19            13   \n",
       "10          Joe Biden     D    17           21         28            15   \n",
       "11           Jeb Bush     R    18           30         22            22   \n",
       "12     Bernie Sanders     D    13           38         21            17   \n",
       "13    Hillary Clinton     D    25           26         24            14   \n",
       "14       Barack Obama     D    21           27         27            12   \n",
       "15    Martin O'Malley     D     0           22         56            17   \n",
       "16       Bill Clinton     D    22           27         29            10   \n",
       "\n",
       "    False  Pants on Fire  Mostly False and Worse  True and Mostly True  \n",
       "0      33             18                      69                    15  \n",
       "1      43             14                      82                     7  \n",
       "2      28              7                      66                    22  \n",
       "3      24              6                      59                    30  \n",
       "4      27              8                      55                    22  \n",
       "5      23              9                      55                    28  \n",
       "6      16              3                      41                    37  \n",
       "7      17              0                      34                    34  \n",
       "8      17              8                      35                    40  \n",
       "9      15              6                      34                    46  \n",
       "10     13              5                      33                    38  \n",
       "11      6              3                      31                    48  \n",
       "12     11              0                      28                    51  \n",
       "13     10              2                      26                    51  \n",
       "14     12              2                      26                    48  \n",
       "15      6              0                      23                    22  \n",
       "16      5              7                      22                    49  "
      ]
     },
     "execution_count": 10,
     "metadata": {},
     "output_type": "execute_result"
    }
   ],
   "source": [
    "df = pd.read_csv('https://stephen-richards-rlwk.squarespace.com/s/Which_party_lies.csv') # now public!\n",
    "#df = pd.read_csv('21st_Century_Schizoid_Man/Which_party_lies.csv') # internal file\n",
    "df"
   ]
  },
  {
   "cell_type": "code",
   "execution_count": 11,
   "metadata": {
    "collapsed": false
   },
   "outputs": [
    {
     "data": {
      "text/plain": [
       "<matplotlib.axes._subplots.AxesSubplot at 0x116edb6a0>"
      ]
     },
     "execution_count": 11,
     "metadata": {},
     "output_type": "execute_result"
    },
    {
     "data": {
      "image/png": "[encoded data removed]",
      "text/plain": [
       "<matplotlib.figure.Figure at 0x116edba58>"
      ]
     },
     "metadata": {},
     "output_type": "display_data"
    }
   ],
   "source": [
    "df.boxplot(column='Mostly False and Worse', by='Party')\n",
    "#print(df.boxplot(column='Mostly False and Worse', by='Party')) # which way is the clearest?"
   ]
  },
  {
   "cell_type": "code",
   "execution_count": 12,
   "metadata": {
    "collapsed": false
   },
   "outputs": [
    {
     "data": {
      "text/plain": [
       "<matplotlib.axes._subplots.AxesSubplot at 0x1194926d8>"
      ]
     },
     "execution_count": 12,
     "metadata": {},
     "output_type": "execute_result"
    },
    {
     "data": {
      "image/png": "[encoded data removed]",
      "text/plain": [
       "<matplotlib.figure.Figure at 0x1193f6a58>"
      ]
     },
     "metadata": {},
     "output_type": "display_data"
    }
   ],
   "source": [
    "df.boxplot(column='True and Mostly True', by='Party')"
   ]
  },
  {
   "cell_type": "markdown",
   "metadata": {},
   "source": [
    "_Compute t-test statistic and P value - **need to work out which is the right t-test variant to use!**_\n",
    "My first guess is that I should use a two samples T-test with non-equal variances "
   ]
  },
  {
   "cell_type": "code",
   "execution_count": 13,
   "metadata": {
    "collapsed": false
   },
   "outputs": [
    {
     "name": "stdout",
     "output_type": "stream",
     "text": [
      "independant t-test, equal variance = false, \n",
      "T statistic =  4.5565823955 \n",
      "P value =  0.000686838785929\n"
     ]
    }
   ],
   "source": [
    "# compute t-test P value - NEED TO work out which is the right T-test variant to use\n",
    "from scipy import stats \n",
    "from scipy.stats import *\n",
    "rep = df[df['Party']=='R']\n",
    "dem = df[df['Party']=='D']\n",
    "t_stat, p_val = ttest_ind(rep['Mostly False and Worse'], dem['Mostly False and Worse'], equal_var=0)\n",
    "print('independant t-test, equal variance = false, ')\n",
    "print('T statistic = ', t_stat, \"\\nP value = \", p_val)"
   ]
  }
 ],
 "metadata": {
  "anaconda-cloud": {},
  "kernelspec": {
   "display_name": "Python 3",
   "language": "python",
   "name": "python3"
  },
  "language_info": {
   "codemirror_mode": {
    "name": "ipython",
    "version": 3
   },
   "file_extension": ".py",
   "mimetype": "text/x-python",
   "name": "python",
   "nbconvert_exporter": "python",
   "pygments_lexer": "ipython3",
   "version": "3.5.2"
  }
 },
 "nbformat": 4,
 "nbformat_minor": 1
}
